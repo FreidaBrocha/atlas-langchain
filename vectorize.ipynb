{
 "cells": [
  {
   "cell_type": "code",
   "execution_count": 2,
   "metadata": {},
   "outputs": [],
   "source": [
    "# https://python.langchain.com/docs/modules/data_connection/vectorstores/integrations/mongodb_atlas\n",
    "\n",
    "from langchain.embeddings.openai import OpenAIEmbeddings\n",
    "from langchain.document_loaders import WebBaseLoader\n",
    "from langchain.document_loaders import PyPDFLoader\n",
    "from langchain.text_splitter import RecursiveCharacterTextSplitter\n",
    "from langchain.vectorstores import MongoDBAtlasVectorSearch\n",
    "from pymongo import MongoClient"
   ]
  },
  {
   "cell_type": "code",
   "execution_count": 4,
   "metadata": {},
   "outputs": [],
   "source": [
    "import os\n",
    "from dotenv import load_dotenv\n",
    "load_dotenv(override=True)\n",
    "\n",
    "openai_api_key = os.environ[\"OPENAI_API_KEY_3.5\"]\n",
    "mongodb_conn_string = os.environ[\"MONGO_URI\"]\n",
    "\n",
    "db_name = \"search_db\"\n",
    "collection_name = \"search_col\"\n",
    "index_name = \"vsearch_index\""
   ]
  },
  {
   "cell_type": "code",
   "execution_count": 5,
   "metadata": {},
   "outputs": [],
   "source": [
    "# Step 1: Load\n",
    "loaders = [\n",
    " WebBaseLoader(\"https://en.wikipedia.org/wiki/AT%26T\"),\n",
    " WebBaseLoader(\"https://en.wikipedia.org/wiki/Bank_of_America\")\n",
    "]\n",
    "data = []\n",
    "for loader in loaders:\n",
    "    data.extend(loader.load())"
   ]
  },
  {
   "cell_type": "code",
   "execution_count": 6,
   "metadata": {},
   "outputs": [
    {
     "name": "stdout",
     "output_type": "stream",
     "text": [
      "Split into 289 docs\n"
     ]
    }
   ],
   "source": [
    "# Step 2: Transform (Split)\n",
    "text_splitter = RecursiveCharacterTextSplitter(chunk_size=1000, chunk_overlap=0, separators=[\n",
    "                                               \"\\n\\n\", \"\\n\", \"(?<=\\. )\", \" \"], length_function=len)\n",
    "docs = text_splitter.split_documents(data)\n",
    "print('Split into ' + str(len(docs)) + ' docs')"
   ]
  },
  {
   "cell_type": "code",
   "execution_count": 7,
   "metadata": {},
   "outputs": [
    {
     "name": "stderr",
     "output_type": "stream",
     "text": [
      "/home/ubuntu/.local/lib/python3.10/site-packages/langchain_core/_api/deprecation.py:117: LangChainDeprecationWarning: The class `langchain_community.embeddings.openai.OpenAIEmbeddings` was deprecated in langchain-community 0.1.0 and will be removed in 0.2.0. An updated version of the class exists in the langchain-openai package and should be used instead. To use it run `pip install -U langchain-openai` and import as `from langchain_openai import OpenAIEmbeddings`.\n",
      "  warn_deprecated(\n"
     ]
    }
   ],
   "source": [
    "# Step 3: Embed\n",
    "# https://api.python.langchain.com/en/latest/embeddings/langchain.embeddings.openai.OpenAIEmbeddings.html\n",
    "embeddings = OpenAIEmbeddings(openai_api_key=openai_api_key)"
   ]
  },
  {
   "cell_type": "code",
   "execution_count": 8,
   "metadata": {},
   "outputs": [],
   "source": [
    "# Step 4: Store\n",
    "# Initialize MongoDB python client\n",
    "client = MongoClient(mongodb_conn_string)\n",
    "collection = client[db_name][collection_name]"
   ]
  },
  {
   "cell_type": "code",
   "execution_count": 9,
   "metadata": {},
   "outputs": [
    {
     "data": {
      "text/plain": [
       "DeleteResult({'n': 0, 'electionId': ObjectId('7fffffff0000000000000313'), 'opTime': {'ts': Timestamp(1708858951, 13), 't': 787}, 'ok': 1.0, '$clusterTime': {'clusterTime': Timestamp(1708858951, 13), 'signature': {'hash': b'\\xf7I\\xee\\x13\\xb4\\xc7\\xdf7\\xa9\\xcf\\x9e\\xc6\\xbf\\xfd\\xfa\\x11\"\\xb20p', 'keyId': 7298821372183052290}}, 'operationTime': Timestamp(1708858951, 13)}, acknowledged=True)"
      ]
     },
     "execution_count": 9,
     "metadata": {},
     "output_type": "execute_result"
    }
   ],
   "source": [
    "# Reset w/out deleting the Search Index \n",
    "collection.delete_many({})"
   ]
  },
  {
   "cell_type": "code",
   "execution_count": 10,
   "metadata": {},
   "outputs": [],
   "source": [
    "# Insert the documents in MongoDB Atlas with their embedding\n",
    "# https://github.com/hwchase17/langchain/blob/master/langchain/vectorstores/mongodb_atlas.py\n",
    "docsearch = MongoDBAtlasVectorSearch.from_documents(\n",
    "    docs, embeddings, collection=collection, index_name=index_name\n",
    ")"
   ]
  },
  {
   "cell_type": "code",
   "execution_count": 12,
   "metadata": {},
   "outputs": [],
   "source": [
    "import argparse\n",
    "from pymongo import MongoClient\n",
    "from langchain.vectorstores import MongoDBAtlasVectorSearch\n",
    "from langchain.embeddings.openai import OpenAIEmbeddings\n",
    "from langchain.llms import OpenAI\n",
    "from langchain.retrievers import ContextualCompressionRetriever\n",
    "from langchain.retrievers.document_compressors import LLMChainExtractor\n",
    "import warnings"
   ]
  },
  {
   "cell_type": "code",
   "execution_count": 13,
   "metadata": {},
   "outputs": [],
   "source": [
    "# Filter out the UserWarning from langchain\n",
    "warnings.filterwarnings(\"ignore\", category=UserWarning, module=\"langchain.chains.llm\")"
   ]
  },
  {
   "cell_type": "code",
   "execution_count": 19,
   "metadata": {},
   "outputs": [
    {
     "name": "stderr",
     "output_type": "stream",
     "text": [
      "usage: ipykernel_launcher.py [-h]\n",
      "ipykernel_launcher.py: error: unrecognized arguments: --f=/home/ubuntu/.local/share/jupyter/runtime/kernel-v2-343279rsxyOmoNc1u.json\n"
     ]
    },
    {
     "ename": "SystemExit",
     "evalue": "2",
     "output_type": "error",
     "traceback": [
      "An exception has occurred, use %tb to see the full traceback.\n",
      "\u001b[0;31mSystemExit\u001b[0m\u001b[0;31m:\u001b[0m 2\n"
     ]
    },
    {
     "name": "stderr",
     "output_type": "stream",
     "text": [
      "/home/ubuntu/.local/lib/python3.10/site-packages/IPython/core/interactiveshell.py:3561: UserWarning: To exit: use 'exit', 'quit', or Ctrl-D.\n",
      "  warn(\"To exit: use 'exit', 'quit', or Ctrl-D.\", stacklevel=1)\n"
     ]
    }
   ],
   "source": [
    "# Process arguments\n",
    "parser = argparse.ArgumentParser(description='Atlas Vector Search Demo')\n",
    "# er.add_argument('-q', '--question', help=\"The question to ask\")\n",
    "args = parser.parse_args()\n",
    "\n",
    "if args.question is None:\n",
    "    # Some questions to try...\n",
    "    query = \"How big is the telecom company?\"\n",
    "    query = \"Who started AT&T?\"\n",
    "    #query = \"Where is AT&T based?\"\n",
    "    #query = \"What venues are AT&T branded?\"\n",
    "    #query = \"How big is BofA?\"\n",
    "    #query = \"When was the financial institution started?\"\n",
    "    #query = \"Does the bank have an investment arm?\"\n",
    "    #query = \"Where does the bank's revenue come from?\"\n",
    "    #query = \"Tell me about charity.\"\n",
    "    #query = \"What buildings are BofA branded?\"\n",
    "\n",
    "else:\n",
    "    query = args.question\n",
    "\n",
    "print(\"\\nYour question:\")\n",
    "print(\"-------------\")\n",
    "print(query)"
   ]
  },
  {
   "cell_type": "code",
   "execution_count": null,
   "metadata": {},
   "outputs": [],
   "source": [
    "# Initialize MongoDB python client\n",
    "client = MongoClient(params.mongodb_conn_string)\n",
    "collection = client[params.db_name][params.collection_name]\n",
    "\n",
    "# initialize vector store\n",
    "vectorStore = MongoDBAtlasVectorSearch(\n",
    "    collection, OpenAIEmbeddings(openai_api_key=params.openai_api_key), index_name=params.index_name\n",
    ")\n",
    "\n",
    "# perform a similarity search between the embedding of the query and the embeddings of the documents\n",
    "# print(\"\\nQuery Response:\")\n",
    "print(\"---------------\")\n",
    "docs = vectorStore.max_marginal_relevance_search(query, K=1)\n",
    "\n",
    "print(docs[0].metadata['title'])\n",
    "print(docs[0].page_content)\n",
    "\n",
    "# Contextual Compression\n",
    "llm = OpenAI(openai_api_key=params.openai_api_key, temperature=0)\n",
    "compressor = LLMChainExtractor.from_llm(llm)\n",
    "\n",
    "compression_retriever = ContextualCompressionRetriever(\n",
    "    base_compressor=compressor,\n",
    "    base_retriever=vectorStore.as_retriever()\n",
    ")\n",
    "\n",
    "print(\"\\nAI Response:\")\n",
    "print(\"-----------\")\n",
    "compressed_docs = compression_retriever.get_relevant_documents(query)\n",
    "print(compressed_docs[0].metadata['title'])\n",
    "print(compressed_docs[0].page_content)\n"
   ]
  }
 ],
 "metadata": {
  "kernelspec": {
   "display_name": "recruiting_venv",
   "language": "python",
   "name": "recruiting_venv"
  },
  "language_info": {
   "codemirror_mode": {
    "name": "ipython",
    "version": 3
   },
   "file_extension": ".py",
   "mimetype": "text/x-python",
   "name": "python",
   "nbconvert_exporter": "python",
   "pygments_lexer": "ipython3",
   "version": "3.10.12"
  }
 },
 "nbformat": 4,
 "nbformat_minor": 2
}
